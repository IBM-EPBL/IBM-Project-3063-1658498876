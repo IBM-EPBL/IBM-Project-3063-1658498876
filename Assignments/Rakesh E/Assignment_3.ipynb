{
  "nbformat": 4,
  "nbformat_minor": 0,
  "metadata": {
    "colab": {
      "provenance": []
    },
    "kernelspec": {
      "name": "python3",
      "display_name": "Python 3"
    },
    "language_info": {
      "name": "python"
    },
    "accelerator": "GPU"
  },
  "cells": [
    {
      "cell_type": "markdown",
      "source": [
        "# Import all necessary libraries"
      ],
      "metadata": {
        "id": "pT_vaTXRh9Wl"
      }
    },
    {
      "cell_type": "code",
      "source": [
        "!pip install split-folders\n",
        "import splitfolders"
      ],
      "metadata": {
        "colab": {
          "base_uri": "https://localhost:8080/"
        },
        "id": "XFGjW2brcLe0",
        "outputId": "fb87d2fd-25b2-4588-9e7a-c80492d4133f"
      },
      "execution_count": 1,
      "outputs": [
        {
          "output_type": "stream",
          "name": "stdout",
          "text": [
            "Looking in indexes: https://pypi.org/simple, https://us-python.pkg.dev/colab-wheels/public/simple/\n",
            "Collecting split-folders\n",
            "  Downloading split_folders-0.5.1-py3-none-any.whl (8.4 kB)\n",
            "Installing collected packages: split-folders\n",
            "Successfully installed split-folders-0.5.1\n"
          ]
        }
      ]
    },
    {
      "cell_type": "code",
      "source": [
        "import numpy as np"
      ],
      "metadata": {
        "id": "LfH344gymdOw"
      },
      "execution_count": 18,
      "outputs": []
    },
    {
      "cell_type": "markdown",
      "source": [
        "#1. Download and Load Dataset"
      ],
      "metadata": {
        "id": "mfrTuIyrifXM"
      }
    },
    {
      "cell_type": "code",
      "source": [
        "from google.colab import drive\n",
        "drive.mount('/content/drive')"
      ],
      "metadata": {
        "colab": {
          "base_uri": "https://localhost:8080/"
        },
        "id": "32tXTsgQjo1P",
        "outputId": "d5c0e68e-995e-40e1-839b-7b6fa4a3abee"
      },
      "execution_count": 2,
      "outputs": [
        {
          "output_type": "stream",
          "name": "stdout",
          "text": [
            "Mounted at /content/drive\n"
          ]
        }
      ]
    },
    {
      "cell_type": "markdown",
      "source": [
        "#### Split Dataset to Training Data, Validation Data and Testing Data\n"
      ],
      "metadata": {
        "id": "cxlHs8DUiPzz"
      }
    },
    {
      "cell_type": "code",
      "source": [
        "splitfolders.ratio('/content/drive/MyDrive/nalayathiran/flowers', output=\"/content/drive/MyDrive/nalayathiran/flowers_split\", seed=1337, ratio=(.8, 0.1,0.1)) "
      ],
      "metadata": {
        "colab": {
          "base_uri": "https://localhost:8080/"
        },
        "id": "g1Zy_gy0iVWJ",
        "outputId": "a12181a2-ec90-4684-a940-1a04def51185"
      },
      "execution_count": 3,
      "outputs": [
        {
          "output_type": "stream",
          "name": "stderr",
          "text": [
            "Copying files: 4317 files [01:37, 44.32 files/s] \n"
          ]
        }
      ]
    },
    {
      "cell_type": "markdown",
      "source": [
        "#2. Image Augmentation"
      ],
      "metadata": {
        "id": "lX-2q8eghwdi"
      }
    },
    {
      "cell_type": "code",
      "source": [
        "from tensorflow.keras.preprocessing.image import ImageDataGenerator"
      ],
      "metadata": {
        "id": "AkpJMHYWJYN0"
      },
      "execution_count": 4,
      "outputs": []
    },
    {
      "cell_type": "code",
      "source": [
        "train_datagen=ImageDataGenerator(rescale=1./255,\n",
        "                                 zoom_range=0.2,\n",
        "                                 horizontal_flip=True)"
      ],
      "metadata": {
        "id": "VdbioNJHJ0Iw"
      },
      "execution_count": 5,
      "outputs": []
    },
    {
      "cell_type": "code",
      "source": [
        "test_datagen=ImageDataGenerator(rescale=1./255)"
      ],
      "metadata": {
        "id": "sIY-F_yjLMaB"
      },
      "execution_count": 6,
      "outputs": []
    },
    {
      "cell_type": "code",
      "source": [
        "xtrain=train_datagen.flow_from_directory('/content/drive/MyDrive/nalayathiran/flowers_split/train',\n",
        "                                         target_size=(64,64),\n",
        "                                         class_mode='categorical', batch_size=100)"
      ],
      "metadata": {
        "id": "wBeZZszdL1q8",
        "colab": {
          "base_uri": "https://localhost:8080/"
        },
        "outputId": "a2f9eb2e-9917-47a1-c08d-532449bd019b"
      },
      "execution_count": 7,
      "outputs": [
        {
          "output_type": "stream",
          "name": "stdout",
          "text": [
            "Found 3452 images belonging to 5 classes.\n"
          ]
        }
      ]
    },
    {
      "cell_type": "code",
      "source": [
        "xtest=train_datagen.flow_from_directory('/content/drive/MyDrive/nalayathiran/flowers_split/val',\n",
        "                                         target_size=(64,64),\n",
        "                                         class_mode='categorical',\n",
        "                                        batch_size=100)"
      ],
      "metadata": {
        "id": "YBGNpyx8MSR5",
        "colab": {
          "base_uri": "https://localhost:8080/"
        },
        "outputId": "0b053eda-c5b1-40a7-bdc5-f34fe7e5071e"
      },
      "execution_count": 8,
      "outputs": [
        {
          "output_type": "stream",
          "name": "stdout",
          "text": [
            "Found 430 images belonging to 5 classes.\n"
          ]
        }
      ]
    },
    {
      "cell_type": "markdown",
      "source": [
        "#3. Create Model"
      ],
      "metadata": {
        "id": "eLXsO0fyizir"
      }
    },
    {
      "cell_type": "code",
      "source": [
        "from tensorflow.keras.models import Sequential\n",
        "from tensorflow.keras.layers import Convolution2D,MaxPooling2D,Flatten,Dense\n",
        "model = Sequential()"
      ],
      "metadata": {
        "id": "EhmoHi4Qc3wy"
      },
      "execution_count": 39,
      "outputs": []
    },
    {
      "cell_type": "markdown",
      "source": [
        "#4. Add Layers(Convolution,MaxPooling,Flatten,Dense-(Hidden Layers),Output)\n"
      ],
      "metadata": {
        "id": "rr2WUJgUjJiQ"
      }
    },
    {
      "cell_type": "code",
      "source": [
        "model.add(Convolution2D(32,(3,3),activation='relu',input_shape=(64,64,3)))\n",
        "model.add(MaxPooling2D(pool_size=(2,2))) # MaxPooling Layer\n",
        "model.add(Flatten()) # Flatten Layer\n",
        "model.add(Dense(300,activation='relu')) # Dense Layer 1 with 300 neurons\n",
        "model.add(Dense(150,activation='relu')) # Dense Layer 2 with 150 neurons\n",
        "model.add(Dense(5,activation='softmax')) # Output Layer with 5 neurons"
      ],
      "metadata": {
        "id": "atCsC-g0dNb4"
      },
      "execution_count": 40,
      "outputs": []
    },
    {
      "cell_type": "markdown",
      "source": [
        "#5. Compile The Model"
      ],
      "metadata": {
        "id": "AGGAKttsjStT"
      }
    },
    {
      "cell_type": "code",
      "source": [
        "model.compile(optimizer='adam',loss='categorical_crossentropy',metrics=['accuracy'])"
      ],
      "metadata": {
        "id": "L59lcavQeiuR"
      },
      "execution_count": 41,
      "outputs": []
    },
    {
      "cell_type": "code",
      "source": [
        "model.summary()"
      ],
      "metadata": {
        "colab": {
          "base_uri": "https://localhost:8080/"
        },
        "id": "ztoKnyA2mZpx",
        "outputId": "bb1b5f52-1611-42e0-ad51-f9616dd54527"
      },
      "execution_count": 42,
      "outputs": [
        {
          "output_type": "stream",
          "name": "stdout",
          "text": [
            "Model: \"sequential_6\"\n",
            "_________________________________________________________________\n",
            " Layer (type)                Output Shape              Param #   \n",
            "=================================================================\n",
            " conv2d_8 (Conv2D)           (None, 62, 62, 32)        896       \n",
            "                                                                 \n",
            " max_pooling2d_5 (MaxPooling  (None, 31, 31, 32)       0         \n",
            " 2D)                                                             \n",
            "                                                                 \n",
            " flatten_5 (Flatten)         (None, 30752)             0         \n",
            "                                                                 \n",
            " dense_15 (Dense)            (None, 300)               9225900   \n",
            "                                                                 \n",
            " dense_16 (Dense)            (None, 150)               45150     \n",
            "                                                                 \n",
            " dense_17 (Dense)            (None, 5)                 755       \n",
            "                                                                 \n",
            "=================================================================\n",
            "Total params: 9,272,701\n",
            "Trainable params: 9,272,701\n",
            "Non-trainable params: 0\n",
            "_________________________________________________________________\n"
          ]
        }
      ]
    },
    {
      "cell_type": "markdown",
      "source": [
        "# 6. Fit The Model"
      ],
      "metadata": {
        "id": "-R8JESFzjW2R"
      }
    },
    {
      "cell_type": "code",
      "source": [
        "model.fit_generator(xtrain,steps_per_epoch=len(xtrain),epochs=100,validation_data=xtest,validation_steps=len(xtest))"
      ],
      "metadata": {
        "colab": {
          "base_uri": "https://localhost:8080/"
        },
        "id": "Zg3pKH2Ge3AQ",
        "outputId": "31a64d38-a36a-4001-c1c7-a2865e572960"
      },
      "execution_count": 44,
      "outputs": [
        {
          "output_type": "stream",
          "name": "stderr",
          "text": [
            "/usr/local/lib/python3.7/dist-packages/ipykernel_launcher.py:1: UserWarning: `Model.fit_generator` is deprecated and will be removed in a future version. Please use `Model.fit`, which supports generators.\n",
            "  \"\"\"Entry point for launching an IPython kernel.\n"
          ]
        },
        {
          "output_type": "stream",
          "name": "stdout",
          "text": [
            "Epoch 1/100\n",
            "35/35 [==============================] - 16s 462ms/step - loss: 0.9243 - accuracy: 0.6443 - val_loss: 0.9651 - val_accuracy: 0.6372\n",
            "Epoch 2/100\n",
            "35/35 [==============================] - 17s 486ms/step - loss: 0.8995 - accuracy: 0.6521 - val_loss: 0.9833 - val_accuracy: 0.6209\n",
            "Epoch 3/100\n",
            "35/35 [==============================] - 18s 506ms/step - loss: 0.8339 - accuracy: 0.6857 - val_loss: 0.9057 - val_accuracy: 0.6581\n",
            "Epoch 4/100\n",
            "35/35 [==============================] - 16s 462ms/step - loss: 0.7864 - accuracy: 0.6979 - val_loss: 0.9385 - val_accuracy: 0.6628\n",
            "Epoch 5/100\n",
            "35/35 [==============================] - 18s 504ms/step - loss: 0.7368 - accuracy: 0.7167 - val_loss: 0.8831 - val_accuracy: 0.6953\n",
            "Epoch 6/100\n",
            "35/35 [==============================] - 17s 483ms/step - loss: 0.7570 - accuracy: 0.7065 - val_loss: 0.9147 - val_accuracy: 0.6721\n",
            "Epoch 7/100\n",
            "35/35 [==============================] - 16s 468ms/step - loss: 0.6869 - accuracy: 0.7416 - val_loss: 0.8786 - val_accuracy: 0.6651\n",
            "Epoch 8/100\n",
            "35/35 [==============================] - 17s 490ms/step - loss: 0.6629 - accuracy: 0.7520 - val_loss: 0.9104 - val_accuracy: 0.6558\n",
            "Epoch 9/100\n",
            "35/35 [==============================] - 16s 467ms/step - loss: 0.6273 - accuracy: 0.7683 - val_loss: 0.9046 - val_accuracy: 0.6884\n",
            "Epoch 10/100\n",
            "35/35 [==============================] - 16s 463ms/step - loss: 0.5810 - accuracy: 0.7856 - val_loss: 0.9248 - val_accuracy: 0.6907\n",
            "Epoch 11/100\n",
            "35/35 [==============================] - 16s 466ms/step - loss: 0.6014 - accuracy: 0.7749 - val_loss: 0.9057 - val_accuracy: 0.6651\n",
            "Epoch 12/100\n",
            "35/35 [==============================] - 16s 462ms/step - loss: 0.5347 - accuracy: 0.8021 - val_loss: 0.8597 - val_accuracy: 0.7000\n",
            "Epoch 13/100\n",
            "35/35 [==============================] - 16s 459ms/step - loss: 0.4947 - accuracy: 0.8172 - val_loss: 0.9327 - val_accuracy: 0.6767\n",
            "Epoch 14/100\n",
            "35/35 [==============================] - 16s 462ms/step - loss: 0.4793 - accuracy: 0.8349 - val_loss: 0.9833 - val_accuracy: 0.6512\n",
            "Epoch 15/100\n",
            "35/35 [==============================] - 16s 461ms/step - loss: 0.4506 - accuracy: 0.8297 - val_loss: 0.8781 - val_accuracy: 0.6977\n",
            "Epoch 16/100\n",
            "35/35 [==============================] - 16s 466ms/step - loss: 0.4400 - accuracy: 0.8395 - val_loss: 0.9007 - val_accuracy: 0.6767\n",
            "Epoch 17/100\n",
            "35/35 [==============================] - 16s 460ms/step - loss: 0.4053 - accuracy: 0.8508 - val_loss: 0.9745 - val_accuracy: 0.6837\n",
            "Epoch 18/100\n",
            "35/35 [==============================] - 17s 493ms/step - loss: 0.3729 - accuracy: 0.8607 - val_loss: 0.9063 - val_accuracy: 0.7000\n",
            "Epoch 19/100\n",
            "35/35 [==============================] - 17s 491ms/step - loss: 0.3540 - accuracy: 0.8717 - val_loss: 1.0619 - val_accuracy: 0.6930\n",
            "Epoch 20/100\n",
            "35/35 [==============================] - 17s 487ms/step - loss: 0.3648 - accuracy: 0.8667 - val_loss: 1.0586 - val_accuracy: 0.6465\n",
            "Epoch 21/100\n",
            "35/35 [==============================] - 16s 462ms/step - loss: 0.3201 - accuracy: 0.8850 - val_loss: 0.9944 - val_accuracy: 0.6581\n",
            "Epoch 22/100\n",
            "35/35 [==============================] - 16s 464ms/step - loss: 0.2933 - accuracy: 0.9003 - val_loss: 0.9957 - val_accuracy: 0.6860\n",
            "Epoch 23/100\n",
            "35/35 [==============================] - 17s 496ms/step - loss: 0.2965 - accuracy: 0.8980 - val_loss: 1.1031 - val_accuracy: 0.6860\n",
            "Epoch 24/100\n",
            "35/35 [==============================] - 16s 458ms/step - loss: 0.2743 - accuracy: 0.9018 - val_loss: 1.0297 - val_accuracy: 0.6791\n",
            "Epoch 25/100\n",
            "35/35 [==============================] - 16s 464ms/step - loss: 0.2504 - accuracy: 0.9160 - val_loss: 1.0733 - val_accuracy: 0.7233\n",
            "Epoch 26/100\n",
            "35/35 [==============================] - 16s 457ms/step - loss: 0.2554 - accuracy: 0.9145 - val_loss: 1.0237 - val_accuracy: 0.6953\n",
            "Epoch 27/100\n",
            "35/35 [==============================] - 16s 472ms/step - loss: 0.2379 - accuracy: 0.9154 - val_loss: 1.0871 - val_accuracy: 0.6791\n",
            "Epoch 28/100\n",
            "35/35 [==============================] - 17s 488ms/step - loss: 0.2540 - accuracy: 0.9137 - val_loss: 1.1263 - val_accuracy: 0.6721\n",
            "Epoch 29/100\n",
            "35/35 [==============================] - 17s 485ms/step - loss: 0.2397 - accuracy: 0.9169 - val_loss: 1.1555 - val_accuracy: 0.6907\n",
            "Epoch 30/100\n",
            "35/35 [==============================] - 16s 469ms/step - loss: 0.2217 - accuracy: 0.9232 - val_loss: 1.2394 - val_accuracy: 0.6744\n",
            "Epoch 31/100\n",
            "35/35 [==============================] - 16s 467ms/step - loss: 0.1855 - accuracy: 0.9331 - val_loss: 1.0657 - val_accuracy: 0.7256\n",
            "Epoch 32/100\n",
            "35/35 [==============================] - 16s 455ms/step - loss: 0.1797 - accuracy: 0.9389 - val_loss: 1.1992 - val_accuracy: 0.6977\n",
            "Epoch 33/100\n",
            "35/35 [==============================] - 16s 462ms/step - loss: 0.1824 - accuracy: 0.9363 - val_loss: 1.2932 - val_accuracy: 0.6744\n",
            "Epoch 34/100\n",
            "35/35 [==============================] - 16s 459ms/step - loss: 0.1694 - accuracy: 0.9438 - val_loss: 1.2668 - val_accuracy: 0.6953\n",
            "Epoch 35/100\n",
            "35/35 [==============================] - 16s 460ms/step - loss: 0.1619 - accuracy: 0.9438 - val_loss: 1.2823 - val_accuracy: 0.6860\n",
            "Epoch 36/100\n",
            "35/35 [==============================] - 16s 457ms/step - loss: 0.1571 - accuracy: 0.9455 - val_loss: 1.3023 - val_accuracy: 0.6674\n",
            "Epoch 37/100\n",
            "35/35 [==============================] - 16s 456ms/step - loss: 0.1756 - accuracy: 0.9412 - val_loss: 1.3399 - val_accuracy: 0.7070\n",
            "Epoch 38/100\n",
            "35/35 [==============================] - 16s 457ms/step - loss: 0.1304 - accuracy: 0.9568 - val_loss: 1.3432 - val_accuracy: 0.7047\n",
            "Epoch 39/100\n",
            "35/35 [==============================] - 16s 456ms/step - loss: 0.1251 - accuracy: 0.9560 - val_loss: 1.2097 - val_accuracy: 0.7047\n",
            "Epoch 40/100\n",
            "35/35 [==============================] - 16s 458ms/step - loss: 0.1192 - accuracy: 0.9621 - val_loss: 1.3216 - val_accuracy: 0.6953\n",
            "Epoch 41/100\n",
            "35/35 [==============================] - 16s 456ms/step - loss: 0.0989 - accuracy: 0.9670 - val_loss: 1.3768 - val_accuracy: 0.6930\n",
            "Epoch 42/100\n",
            "35/35 [==============================] - 16s 460ms/step - loss: 0.1286 - accuracy: 0.9563 - val_loss: 1.4950 - val_accuracy: 0.6698\n",
            "Epoch 43/100\n",
            "35/35 [==============================] - 16s 454ms/step - loss: 0.0991 - accuracy: 0.9687 - val_loss: 1.3698 - val_accuracy: 0.6977\n",
            "Epoch 44/100\n",
            "35/35 [==============================] - 16s 457ms/step - loss: 0.1234 - accuracy: 0.9597 - val_loss: 1.2935 - val_accuracy: 0.7000\n",
            "Epoch 45/100\n",
            "35/35 [==============================] - 16s 457ms/step - loss: 0.1314 - accuracy: 0.9574 - val_loss: 1.4689 - val_accuracy: 0.6860\n",
            "Epoch 46/100\n",
            "35/35 [==============================] - 16s 462ms/step - loss: 0.1016 - accuracy: 0.9693 - val_loss: 1.4367 - val_accuracy: 0.6814\n",
            "Epoch 47/100\n",
            "35/35 [==============================] - 16s 462ms/step - loss: 0.0925 - accuracy: 0.9673 - val_loss: 1.2504 - val_accuracy: 0.7186\n",
            "Epoch 48/100\n",
            "35/35 [==============================] - 16s 458ms/step - loss: 0.1065 - accuracy: 0.9641 - val_loss: 1.3183 - val_accuracy: 0.7116\n",
            "Epoch 49/100\n",
            "35/35 [==============================] - 16s 456ms/step - loss: 0.0929 - accuracy: 0.9693 - val_loss: 1.4870 - val_accuracy: 0.6767\n",
            "Epoch 50/100\n",
            "35/35 [==============================] - 16s 457ms/step - loss: 0.0805 - accuracy: 0.9739 - val_loss: 1.4077 - val_accuracy: 0.6860\n",
            "Epoch 51/100\n",
            "35/35 [==============================] - 16s 454ms/step - loss: 0.0663 - accuracy: 0.9797 - val_loss: 1.4879 - val_accuracy: 0.7047\n",
            "Epoch 52/100\n",
            "35/35 [==============================] - 16s 458ms/step - loss: 0.0981 - accuracy: 0.9693 - val_loss: 1.6110 - val_accuracy: 0.6628\n",
            "Epoch 53/100\n",
            "35/35 [==============================] - 16s 455ms/step - loss: 0.0951 - accuracy: 0.9684 - val_loss: 1.4544 - val_accuracy: 0.7000\n",
            "Epoch 54/100\n",
            "35/35 [==============================] - 16s 457ms/step - loss: 0.0827 - accuracy: 0.9745 - val_loss: 1.4140 - val_accuracy: 0.7093\n",
            "Epoch 55/100\n",
            "35/35 [==============================] - 16s 456ms/step - loss: 0.0634 - accuracy: 0.9803 - val_loss: 1.5112 - val_accuracy: 0.6791\n",
            "Epoch 56/100\n",
            "35/35 [==============================] - 16s 456ms/step - loss: 0.0836 - accuracy: 0.9705 - val_loss: 1.4706 - val_accuracy: 0.6884\n",
            "Epoch 57/100\n",
            "35/35 [==============================] - 16s 456ms/step - loss: 0.0754 - accuracy: 0.9710 - val_loss: 1.7122 - val_accuracy: 0.6674\n",
            "Epoch 58/100\n",
            "35/35 [==============================] - 16s 455ms/step - loss: 0.0754 - accuracy: 0.9786 - val_loss: 1.5743 - val_accuracy: 0.7070\n",
            "Epoch 59/100\n",
            "35/35 [==============================] - 16s 455ms/step - loss: 0.0576 - accuracy: 0.9800 - val_loss: 1.5107 - val_accuracy: 0.7116\n",
            "Epoch 60/100\n",
            "35/35 [==============================] - 16s 458ms/step - loss: 0.0543 - accuracy: 0.9820 - val_loss: 1.4325 - val_accuracy: 0.6884\n",
            "Epoch 61/100\n",
            "35/35 [==============================] - 16s 456ms/step - loss: 0.0659 - accuracy: 0.9791 - val_loss: 1.7170 - val_accuracy: 0.6814\n",
            "Epoch 62/100\n",
            "35/35 [==============================] - 16s 455ms/step - loss: 0.0586 - accuracy: 0.9820 - val_loss: 1.4849 - val_accuracy: 0.7070\n",
            "Epoch 63/100\n",
            "35/35 [==============================] - 16s 455ms/step - loss: 0.0607 - accuracy: 0.9803 - val_loss: 1.8797 - val_accuracy: 0.6558\n",
            "Epoch 64/100\n",
            "35/35 [==============================] - 16s 453ms/step - loss: 0.0769 - accuracy: 0.9754 - val_loss: 1.5832 - val_accuracy: 0.7000\n",
            "Epoch 65/100\n",
            "35/35 [==============================] - 16s 455ms/step - loss: 0.0798 - accuracy: 0.9719 - val_loss: 1.7591 - val_accuracy: 0.6581\n",
            "Epoch 66/100\n",
            "35/35 [==============================] - 16s 468ms/step - loss: 0.0782 - accuracy: 0.9757 - val_loss: 1.6536 - val_accuracy: 0.6721\n",
            "Epoch 67/100\n",
            "35/35 [==============================] - 16s 454ms/step - loss: 0.0645 - accuracy: 0.9803 - val_loss: 1.5781 - val_accuracy: 0.7140\n",
            "Epoch 68/100\n",
            "35/35 [==============================] - 16s 454ms/step - loss: 0.0809 - accuracy: 0.9757 - val_loss: 1.7625 - val_accuracy: 0.6674\n",
            "Epoch 69/100\n",
            "35/35 [==============================] - 16s 457ms/step - loss: 0.0744 - accuracy: 0.9774 - val_loss: 1.5425 - val_accuracy: 0.7070\n",
            "Epoch 70/100\n",
            "35/35 [==============================] - 16s 455ms/step - loss: 0.0463 - accuracy: 0.9846 - val_loss: 1.7847 - val_accuracy: 0.6930\n",
            "Epoch 71/100\n",
            "35/35 [==============================] - 16s 455ms/step - loss: 0.0541 - accuracy: 0.9806 - val_loss: 1.8573 - val_accuracy: 0.7000\n",
            "Epoch 72/100\n",
            "35/35 [==============================] - 16s 453ms/step - loss: 0.0808 - accuracy: 0.9733 - val_loss: 1.6641 - val_accuracy: 0.6791\n",
            "Epoch 73/100\n",
            "35/35 [==============================] - 16s 455ms/step - loss: 0.0642 - accuracy: 0.9794 - val_loss: 1.5741 - val_accuracy: 0.7023\n",
            "Epoch 74/100\n",
            "35/35 [==============================] - 16s 453ms/step - loss: 0.0543 - accuracy: 0.9829 - val_loss: 2.0541 - val_accuracy: 0.6651\n",
            "Epoch 75/100\n",
            "35/35 [==============================] - 16s 458ms/step - loss: 0.0663 - accuracy: 0.9800 - val_loss: 1.7196 - val_accuracy: 0.6930\n",
            "Epoch 76/100\n",
            "35/35 [==============================] - 17s 473ms/step - loss: 0.0438 - accuracy: 0.9875 - val_loss: 1.8899 - val_accuracy: 0.6977\n",
            "Epoch 77/100\n",
            "35/35 [==============================] - 16s 462ms/step - loss: 0.0651 - accuracy: 0.9794 - val_loss: 1.6386 - val_accuracy: 0.6977\n",
            "Epoch 78/100\n",
            "35/35 [==============================] - 16s 459ms/step - loss: 0.0651 - accuracy: 0.9823 - val_loss: 1.6740 - val_accuracy: 0.6698\n",
            "Epoch 79/100\n",
            "35/35 [==============================] - 16s 460ms/step - loss: 0.0770 - accuracy: 0.9751 - val_loss: 1.6649 - val_accuracy: 0.6953\n",
            "Epoch 80/100\n",
            "35/35 [==============================] - 16s 460ms/step - loss: 0.0720 - accuracy: 0.9786 - val_loss: 1.5239 - val_accuracy: 0.7070\n",
            "Epoch 81/100\n",
            "35/35 [==============================] - 16s 461ms/step - loss: 0.0699 - accuracy: 0.9765 - val_loss: 1.6800 - val_accuracy: 0.6930\n",
            "Epoch 82/100\n",
            "35/35 [==============================] - 16s 456ms/step - loss: 0.0835 - accuracy: 0.9733 - val_loss: 1.7625 - val_accuracy: 0.7140\n",
            "Epoch 83/100\n",
            "35/35 [==============================] - 16s 459ms/step - loss: 0.0633 - accuracy: 0.9791 - val_loss: 1.6420 - val_accuracy: 0.6977\n",
            "Epoch 84/100\n",
            "35/35 [==============================] - 16s 458ms/step - loss: 0.0546 - accuracy: 0.9835 - val_loss: 1.6706 - val_accuracy: 0.7116\n",
            "Epoch 85/100\n",
            "35/35 [==============================] - 16s 470ms/step - loss: 0.0424 - accuracy: 0.9875 - val_loss: 1.8698 - val_accuracy: 0.6837\n",
            "Epoch 86/100\n",
            "35/35 [==============================] - 16s 464ms/step - loss: 0.0424 - accuracy: 0.9846 - val_loss: 2.1222 - val_accuracy: 0.6884\n",
            "Epoch 87/100\n",
            "35/35 [==============================] - 16s 456ms/step - loss: 0.0494 - accuracy: 0.9817 - val_loss: 1.9721 - val_accuracy: 0.6953\n",
            "Epoch 88/100\n",
            "35/35 [==============================] - 16s 461ms/step - loss: 0.0539 - accuracy: 0.9849 - val_loss: 1.7712 - val_accuracy: 0.7093\n",
            "Epoch 89/100\n",
            "35/35 [==============================] - 16s 457ms/step - loss: 0.0473 - accuracy: 0.9844 - val_loss: 1.7871 - val_accuracy: 0.6884\n",
            "Epoch 90/100\n",
            "35/35 [==============================] - 16s 458ms/step - loss: 0.0637 - accuracy: 0.9797 - val_loss: 1.8426 - val_accuracy: 0.6744\n",
            "Epoch 91/100\n",
            "35/35 [==============================] - 16s 457ms/step - loss: 0.0468 - accuracy: 0.9803 - val_loss: 1.8945 - val_accuracy: 0.6930\n",
            "Epoch 92/100\n",
            "35/35 [==============================] - 16s 457ms/step - loss: 0.0372 - accuracy: 0.9870 - val_loss: 2.0122 - val_accuracy: 0.6837\n",
            "Epoch 93/100\n",
            "35/35 [==============================] - 16s 456ms/step - loss: 0.0500 - accuracy: 0.9820 - val_loss: 1.7607 - val_accuracy: 0.7256\n",
            "Epoch 94/100\n",
            "35/35 [==============================] - 16s 457ms/step - loss: 0.0429 - accuracy: 0.9849 - val_loss: 2.0428 - val_accuracy: 0.6721\n",
            "Epoch 95/100\n",
            "35/35 [==============================] - 16s 457ms/step - loss: 0.0542 - accuracy: 0.9820 - val_loss: 1.8651 - val_accuracy: 0.7023\n",
            "Epoch 96/100\n",
            "35/35 [==============================] - 16s 460ms/step - loss: 0.0513 - accuracy: 0.9829 - val_loss: 1.8866 - val_accuracy: 0.6907\n",
            "Epoch 97/100\n",
            "35/35 [==============================] - 16s 455ms/step - loss: 0.0386 - accuracy: 0.9890 - val_loss: 1.9093 - val_accuracy: 0.6907\n",
            "Epoch 98/100\n",
            "35/35 [==============================] - 16s 458ms/step - loss: 0.0441 - accuracy: 0.9841 - val_loss: 1.7236 - val_accuracy: 0.6907\n",
            "Epoch 99/100\n",
            "35/35 [==============================] - 16s 454ms/step - loss: 0.0389 - accuracy: 0.9902 - val_loss: 1.8170 - val_accuracy: 0.7116\n",
            "Epoch 100/100\n",
            "35/35 [==============================] - 16s 458ms/step - loss: 0.0303 - accuracy: 0.9884 - val_loss: 1.8309 - val_accuracy: 0.7070\n"
          ]
        },
        {
          "output_type": "execute_result",
          "data": {
            "text/plain": [
              "<keras.callbacks.History at 0x7f8e6fcd5e10>"
            ]
          },
          "metadata": {},
          "execution_count": 44
        }
      ]
    },
    {
      "cell_type": "markdown",
      "source": [
        "# 7. Save The Model"
      ],
      "metadata": {
        "id": "iN5hb6MKjb2Y"
      }
    },
    {
      "cell_type": "code",
      "source": [
        "# Model was trained with accuracy of 98%\n",
        "model.save('/content/drive/MyDrive/nalayathiran/Flowers.h5')"
      ],
      "metadata": {
        "id": "bKoDDsIogREq"
      },
      "execution_count": 45,
      "outputs": []
    },
    {
      "cell_type": "markdown",
      "source": [
        "# 8. Test The Model"
      ],
      "metadata": {
        "id": "JLgQNDHxjhmb"
      }
    },
    {
      "cell_type": "code",
      "source": [
        "from tensorflow.keras.preprocessing import image"
      ],
      "metadata": {
        "id": "5WaSxEzSgdCM"
      },
      "execution_count": 46,
      "outputs": []
    },
    {
      "cell_type": "code",
      "source": [
        "# Loading the Test Image\n",
        "img=image.load_img('/content/drive/MyDrive/nalayathiran/flowers_split/test/rose/18486124712_17ebe7559b_n.jpg',target_size=(64,64))\n",
        "img # Image belonging to the class label Rose"
      ],
      "metadata": {
        "colab": {
          "base_uri": "https://localhost:8080/",
          "height": 81
        },
        "id": "GXJGXIY3gqbF",
        "outputId": "82ef4fb8-1b07-404c-9f93-e5da2e3ef3cc"
      },
      "execution_count": 58,
      "outputs": [
        {
          "output_type": "execute_result",
          "data": {
            "text/plain": [
              "<PIL.Image.Image image mode=RGB size=64x64 at 0x7F8DDEABAC50>"
            ],
            "image/png": "[encoded data removed]"
          },
          "metadata": {},
          "execution_count": 58
        }
      ]
    },
    {
      "cell_type": "code",
      "source": [
        "x=image.img_to_array(img)\n",
        "x=np.expand_dims(x,axis=0) # Adding extra dimension to image as it is in RGB\n",
        "model.predict(x)"
      ],
      "metadata": {
        "colab": {
          "base_uri": "https://localhost:8080/"
        },
        "id": "kfIwd48Lg5A0",
        "outputId": "ffc20a74-0126-4f2a-bdc1-55caaf4d86a4"
      },
      "execution_count": 59,
      "outputs": [
        {
          "output_type": "execute_result",
          "data": {
            "text/plain": [
              "array([[0., 0., 1., 0., 0.]], dtype=float32)"
            ]
          },
          "metadata": {},
          "execution_count": 59
        }
      ]
    },
    {
      "cell_type": "code",
      "source": [
        "op=['Daisy','Dandelion','Rose','Sunflower','Tulip']\n",
        "pred=np.argmax(model.predict(x)) \n",
        "# Predicting the output\n",
        "op[pred]"
      ],
      "metadata": {
        "colab": {
          "base_uri": "https://localhost:8080/",
          "height": 36
        },
        "id": "sdwxPuOWhTMa",
        "outputId": "4f755de1-0a20-4e68-df6c-6a13396f88c9"
      },
      "execution_count": 60,
      "outputs": [
        {
          "output_type": "execute_result",
          "data": {
            "text/plain": [
              "'Rose'"
            ],
            "application/vnd.google.colaboratory.intrinsic+json": {
              "type": "string"
            }
          },
          "metadata": {},
          "execution_count": 60
        }
      ]
    },
    {
      "cell_type": "code",
      "source": [],
      "metadata": {
        "id": "4YnRFge1wU-S"
      },
      "execution_count": null,
      "outputs": []
    }
  ]
}